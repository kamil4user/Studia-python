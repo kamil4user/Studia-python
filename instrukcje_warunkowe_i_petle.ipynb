{
  "metadata": {
    "kernelspec": {
      "name": "xpython",
      "display_name": "Python 3.13 (XPython)",
      "language": "python"
    },
    "language_info": {
      "file_extension": ".py",
      "mimetype": "text/x-python",
      "name": "python",
      "version": "3.13.1"
    }
  },
  "nbformat_minor": 5,
  "nbformat": 4,
  "cells": [
    {
      "id": "5e137f0a-6899-4f1f-9213-ddc841ff592e",
      "cell_type": "code",
      "source": "temperature = 17\nif temperature > 25:\n    print(\"Cieplo\")\nelif temperature > 15\n    print(\"W sam raz\")\nelse:\n    print(\"Chlodno\")",
      "metadata": {
        "trusted": true
      },
      "outputs": [],
      "execution_count": null
    },
    {
      "id": "f838f3f1-fb53-4b2e-804a-8a92065289d1",
      "cell_type": "code",
      "source": "number = int(10)\nif number % 2 == 0:\n    print(\"jest parzysta\")\nelse:\n    print(\"jest nieparzysta\")",
      "metadata": {
        "trusted": true
      },
      "outputs": [
        {
          "name": "stdout",
          "output_type": "stream",
          "text": "jest parzysta\n"
        }
      ],
      "execution_count": 20
    },
    {
      "id": "cb43b622-26d3-4175-8ad3-66a8713186eb",
      "cell_type": "code",
      "source": "for(i) in range (1,11):\n    print(i)",
      "metadata": {
        "trusted": true
      },
      "outputs": [
        {
          "name": "stdout",
          "output_type": "stream",
          "text": "1\n2\n3\n4\n5\n6\n7\n8\n9\n10\n"
        }
      ],
      "execution_count": 23
    },
    {
      "id": "2be31f13-dc34-45dc-9635-b7163fbdab94",
      "cell_type": "code",
      "source": "iter = 1\nwhile iter <=5:\n    print(iter)\n    iter+= 1",
      "metadata": {
        "trusted": true
      },
      "outputs": [
        {
          "name": "stdout",
          "output_type": "stream",
          "text": "1\n2\n3\n4\n5\n"
        }
      ],
      "execution_count": 2
    },
    {
      "id": "df8bf87d-b54c-4a67-84eb-417ef14affe8",
      "cell_type": "code",
      "source": "",
      "metadata": {
        "trusted": true
      },
      "outputs": [],
      "execution_count": null
    }
  ]
}