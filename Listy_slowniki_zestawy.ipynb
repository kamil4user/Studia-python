{
 "cells": [
  {
   "cell_type": "code",
   "id": "initial_id",
   "metadata": {
    "collapsed": true,
    "ExecuteTime": {
     "end_time": "2025-10-25T10:34:28.865288Z",
     "start_time": "2025-10-25T10:34:28.861888Z"
    }
   },
   "source": [
    "fruits = [\"jabłko\", \"banan\", \"malina\"]\n",
    "person = {\"name\": \"Ala\", \"age\": 22}\n",
    "numbers = {1, 2, 3, 3}"
   ],
   "outputs": [],
   "execution_count": 9
  },
  {
   "metadata": {
    "ExecuteTime": {
     "end_time": "2025-10-25T10:34:28.894721Z",
     "start_time": "2025-10-25T10:34:28.891318Z"
    }
   },
   "cell_type": "code",
   "source": [
    "fruits.append(\"gruszka\")\n",
    "print(fruits)\n"
   ],
   "id": "561b17fc667200a3",
   "outputs": [
    {
     "name": "stdout",
     "output_type": "stream",
     "text": [
      "['jabłko', 'banan', 'malina', 'gruszka']\n"
     ]
    }
   ],
   "execution_count": 10
  },
  {
   "metadata": {
    "ExecuteTime": {
     "end_time": "2025-10-25T10:34:28.909463Z",
     "start_time": "2025-10-25T10:34:28.906514Z"
    }
   },
   "cell_type": "code",
   "source": "print(fruits[1])",
   "id": "6b6b5cec8d2f2e84",
   "outputs": [
    {
     "name": "stdout",
     "output_type": "stream",
     "text": [
      "banan\n"
     ]
    }
   ],
   "execution_count": 11
  },
  {
   "metadata": {
    "ExecuteTime": {
     "end_time": "2025-10-25T10:34:28.952477Z",
     "start_time": "2025-10-25T10:34:28.949467Z"
    }
   },
   "cell_type": "code",
   "source": [
    "srednia = sum([4, 8, 15, 16, 23, 42]) / len([4, 8, 15, 16, 23, 42])\n",
    "print(srednia)"
   ],
   "id": "4ebaed5b5a52a053",
   "outputs": [
    {
     "name": "stdout",
     "output_type": "stream",
     "text": [
      "18.0\n"
     ]
    }
   ],
   "execution_count": 12
  },
  {
   "metadata": {
    "ExecuteTime": {
     "end_time": "2025-10-25T10:34:28.966416Z",
     "start_time": "2025-10-25T10:34:28.963680Z"
    }
   },
   "cell_type": "code",
   "source": [
    "for owoc in fruits:\n",
    "    print(f'\"Owoce:\" {owoc}')"
   ],
   "id": "dc50eec674edd9c0",
   "outputs": [
    {
     "name": "stdout",
     "output_type": "stream",
     "text": [
      "\"Owoce:\" jabłko\n",
      "\"Owoce:\" banan\n",
      "\"Owoce:\" malina\n",
      "\"Owoce:\" gruszka\n"
     ]
    }
   ],
   "execution_count": 13
  },
  {
   "metadata": {
    "ExecuteTime": {
     "end_time": "2025-10-25T10:38:28.585092Z",
     "start_time": "2025-10-25T10:38:28.581937Z"
    }
   },
   "cell_type": "code",
   "source": [
    "for key, value in person.items():\n",
    "    print(f'His/Her: {key} Is: {value}')"
   ],
   "id": "c4b3686355c3b6ce",
   "outputs": [
    {
     "name": "stdout",
     "output_type": "stream",
     "text": [
      "His/Her: name Is: Ala\n",
      "His/Her: age Is: 22\n"
     ]
    }
   ],
   "execution_count": 17
  }
 ],
 "metadata": {
  "kernelspec": {
   "display_name": "Python 3",
   "language": "python",
   "name": "python3"
  },
  "language_info": {
   "codemirror_mode": {
    "name": "ipython",
    "version": 2
   },
   "file_extension": ".py",
   "mimetype": "text/x-python",
   "name": "python",
   "nbconvert_exporter": "python",
   "pygments_lexer": "ipython2",
   "version": "2.7.6"
  }
 },
 "nbformat": 4,
 "nbformat_minor": 5
}
