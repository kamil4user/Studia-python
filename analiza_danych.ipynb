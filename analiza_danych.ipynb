{
  "cells": [
    {
      "cell_type": "code",
      "execution_count": 1,
      "id": "f5339e73-8bd9-49ad-850b-0d262dc41d65",
      "metadata": {
        "trusted": true
      },
      "outputs": [],
      "source": [
        "import numpy as np\n",
        "import pandas as pd"
      ]
    },
    {
      "cell_type": "code",
      "execution_count": 2,
      "id": "9a944337-c913-44f4-b4e7-59c6c467eec1",
      "metadata": {
        "trusted": true
      },
      "outputs": [
        {
          "data": {
            "text/html": [
              "<div>\n",
              "<style scoped>\n",
              "    .dataframe tbody tr th:only-of-type {\n",
              "        vertical-align: middle;\n",
              "    }\n",
              "\n",
              "    .dataframe tbody tr th {\n",
              "        vertical-align: top;\n",
              "    }\n",
              "\n",
              "    .dataframe thead th {\n",
              "        text-align: right;\n",
              "    }\n",
              "</style>\n",
              "<table border=\"1\" class=\"dataframe\">\n",
              "  <thead>\n",
              "    <tr style=\"text-align: right;\">\n",
              "      <th></th>\n",
              "      <th>imie</th>\n",
              "      <th>wiek</th>\n",
              "      <th>ocena</th>\n",
              "    </tr>\n",
              "  </thead>\n",
              "  <tbody>\n",
              "    <tr>\n",
              "      <th>0</th>\n",
              "      <td>Ala</td>\n",
              "      <td>22</td>\n",
              "      <td>4.5</td>\n",
              "    </tr>\n",
              "    <tr>\n",
              "      <th>1</th>\n",
              "      <td>Bartek</td>\n",
              "      <td>25</td>\n",
              "      <td>3.8</td>\n",
              "    </tr>\n",
              "    <tr>\n",
              "      <th>2</th>\n",
              "      <td>Celina</td>\n",
              "      <td>20</td>\n",
              "      <td>5.0</td>\n",
              "    </tr>\n",
              "  </tbody>\n",
              "</table>\n",
              "</div>"
            ],
            "text/plain": [
              "     imie  wiek  ocena\n",
              "0     Ala    22    4.5\n",
              "1  Bartek    25    3.8\n",
              "2  Celina    20    5.0"
            ]
          },
          "metadata": {},
          "output_type": "display_data"
        },
        {
          "name": "stdout",
          "output_type": "stream",
          "text": [
            "            wiek     ocena\n",
            "count   3.000000  3.000000\n",
            "mean   22.333333  4.433333\n",
            "std     2.516611  0.602771\n",
            "min    20.000000  3.800000\n",
            "25%    21.000000  4.150000\n",
            "50%    22.000000  4.500000\n",
            "75%    23.500000  4.750000\n",
            "max    25.000000  5.000000\n"
          ]
        }
      ],
      "source": [
        "data = {\n",
        "\"imie\": [\"Ala\", \"Bartek\", \"Celina\"],\n",
        "\"wiek\": [22,25,20],\n",
        "\"ocena\":[4.5, 3.8, 5.0]\n",
        "}\n",
        "df = pd.DataFrame(data)\n",
        "display(df)\n",
        "print(df.describe())"
      ]
    },
    {
      "cell_type": "code",
      "execution_count": 3,
      "id": "5a66383d-df6d-4c85-b5fb-c7bf8752c0e0",
      "metadata": {
        "trusted": true
      },
      "outputs": [],
      "source": [
        "df[\"Rok Studiow\"] = [1, 2, 3]"
      ]
    },
    {
      "cell_type": "code",
      "execution_count": 4,
      "id": "03da81d0-3c22-4a91-9a58-23bcfb9737e4",
      "metadata": {
        "trusted": true
      },
      "outputs": [
        {
          "name": "stdout",
          "output_type": "stream",
          "text": [
            "Srednia to : 4.433333333333334\n"
          ]
        }
      ],
      "source": [
        "oceny = [4.5, 3.8, 5.0]\n",
        "srednia = sum(oceny) / len(oceny)\n",
        "print(f\"Srednia to : {srednia}\")"
      ]
    },
    {
      "cell_type": "code",
      "execution_count": 5,
      "id": "a2da9271-7d54-4fc3-b019-aca7850df5ed",
      "metadata": {
        "trusted": true
      },
      "outputs": [
        {
          "name": "stdout",
          "output_type": "stream",
          "text": [
            "     imie  wiek  ocena  Rok Studiow\n",
            "0     Ala    22    4.5            1\n",
            "2  Celina    20    5.0            3\n"
          ]
        }
      ],
      "source": [
        "oceny = df[df[\"ocena\"] >=4]\n",
        "print(oceny)"
      ]
    },
    {
      "cell_type": "code",
      "execution_count": null,
      "id": "48a64323-0a8d-4549-ace3-93fc16c02b55",
      "metadata": {
        "trusted": true
      },
      "outputs": [],
      "source": []
    }
  ],
  "metadata": {
    "kernelspec": {
      "display_name": "base",
      "language": "python",
      "name": "python3"
    },
    "language_info": {
      "codemirror_mode": {
        "name": "ipython",
        "version": 3
      },
      "file_extension": ".py",
      "mimetype": "text/x-python",
      "name": "python",
      "nbconvert_exporter": "python",
      "pygments_lexer": "ipython3",
      "version": "3.13.5"
    }
  },
  "nbformat": 4,
  "nbformat_minor": 5
}
