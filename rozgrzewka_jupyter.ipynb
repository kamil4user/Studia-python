{
  "metadata": {
    "kernelspec": {
      "name": "xpython",
      "display_name": "Python 3.13 (XPython)",
      "language": "python"
    },
    "language_info": {
      "file_extension": ".py",
      "mimetype": "text/x-python",
      "name": "python",
      "version": "3.13.1"
    }
  },
  "nbformat_minor": 5,
  "nbformat": 4,
  "cells": [
    {
      "id": "b7333b0d-383e-4eb9-9d2e-85fb91cff8b8",
      "cell_type": "code",
      "source": "Kamil Pilszczek - Informatyka zaocznie",
      "metadata": {
        "trusted": true
      },
      "outputs": [],
      "execution_count": null
    },
    {
      "id": "d9c79e9d-533f-43f4-af06-44f59b7f1756",
      "cell_type": "code",
      "source": "print(\"Hello, Data Science!\")",
      "metadata": {
        "trusted": true
      },
      "outputs": [],
      "execution_count": null
    }
  ]
}