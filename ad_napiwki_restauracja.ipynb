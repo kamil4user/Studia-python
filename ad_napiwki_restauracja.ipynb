{
 "cells": [
  {
   "cell_type": "code",
   "execution_count": 86,
   "id": "cce021eb-bd48-439a-948b-483df81a6576",
   "metadata": {},
   "outputs": [],
   "source": [
    "import seaborn as sns\n",
    "import numpy as np\n",
    "import matplotlib.pyplot as plt\n",
    "df = sns.load_dataset(\"tips\")\n"
   ]
  },
  {
   "cell_type": "code",
   "execution_count": 87,
   "id": "eefe95bf-0536-44f5-a0dd-91c3bd891325",
   "metadata": {},
   "outputs": [
    {
     "name": "stdout",
     "output_type": "stream",
     "text": [
      "<class 'pandas.core.frame.DataFrame'>\n",
      "RangeIndex: 244 entries, 0 to 243\n",
      "Data columns (total 7 columns):\n",
      " #   Column      Non-Null Count  Dtype   \n",
      "---  ------      --------------  -----   \n",
      " 0   total_bill  244 non-null    float64 \n",
      " 1   tip         244 non-null    float64 \n",
      " 2   sex         244 non-null    category\n",
      " 3   smoker      244 non-null    category\n",
      " 4   day         244 non-null    category\n",
      " 5   time        244 non-null    category\n",
      " 6   size        244 non-null    int64   \n",
      "dtypes: category(4), float64(2), int64(1)\n",
      "memory usage: 7.4 KB\n"
     ]
    },
    {
     "data": {
      "text/html": [
       "<div>\n",
       "<style scoped>\n",
       "    .dataframe tbody tr th:only-of-type {\n",
       "        vertical-align: middle;\n",
       "    }\n",
       "\n",
       "    .dataframe tbody tr th {\n",
       "        vertical-align: top;\n",
       "    }\n",
       "\n",
       "    .dataframe thead th {\n",
       "        text-align: right;\n",
       "    }\n",
       "</style>\n",
       "<table border=\"1\" class=\"dataframe\">\n",
       "  <thead>\n",
       "    <tr style=\"text-align: right;\">\n",
       "      <th></th>\n",
       "      <th>total_bill</th>\n",
       "      <th>tip</th>\n",
       "      <th>size</th>\n",
       "    </tr>\n",
       "  </thead>\n",
       "  <tbody>\n",
       "    <tr>\n",
       "      <th>count</th>\n",
       "      <td>244.000000</td>\n",
       "      <td>244.000000</td>\n",
       "      <td>244.000000</td>\n",
       "    </tr>\n",
       "    <tr>\n",
       "      <th>mean</th>\n",
       "      <td>19.785943</td>\n",
       "      <td>2.998279</td>\n",
       "      <td>2.569672</td>\n",
       "    </tr>\n",
       "    <tr>\n",
       "      <th>std</th>\n",
       "      <td>8.902412</td>\n",
       "      <td>1.383638</td>\n",
       "      <td>0.951100</td>\n",
       "    </tr>\n",
       "    <tr>\n",
       "      <th>min</th>\n",
       "      <td>3.070000</td>\n",
       "      <td>1.000000</td>\n",
       "      <td>1.000000</td>\n",
       "    </tr>\n",
       "    <tr>\n",
       "      <th>25%</th>\n",
       "      <td>13.347500</td>\n",
       "      <td>2.000000</td>\n",
       "      <td>2.000000</td>\n",
       "    </tr>\n",
       "    <tr>\n",
       "      <th>50%</th>\n",
       "      <td>17.795000</td>\n",
       "      <td>2.900000</td>\n",
       "      <td>2.000000</td>\n",
       "    </tr>\n",
       "    <tr>\n",
       "      <th>75%</th>\n",
       "      <td>24.127500</td>\n",
       "      <td>3.562500</td>\n",
       "      <td>3.000000</td>\n",
       "    </tr>\n",
       "    <tr>\n",
       "      <th>max</th>\n",
       "      <td>50.810000</td>\n",
       "      <td>10.000000</td>\n",
       "      <td>6.000000</td>\n",
       "    </tr>\n",
       "  </tbody>\n",
       "</table>\n",
       "</div>"
      ],
      "text/plain": [
       "       total_bill         tip        size\n",
       "count  244.000000  244.000000  244.000000\n",
       "mean    19.785943    2.998279    2.569672\n",
       "std      8.902412    1.383638    0.951100\n",
       "min      3.070000    1.000000    1.000000\n",
       "25%     13.347500    2.000000    2.000000\n",
       "50%     17.795000    2.900000    2.000000\n",
       "75%     24.127500    3.562500    3.000000\n",
       "max     50.810000   10.000000    6.000000"
      ]
     },
     "execution_count": 87,
     "metadata": {},
     "output_type": "execute_result"
    }
   ],
   "source": [
    "df.info()\n",
    "df.describe()\n"
   ]
  },
  {
   "cell_type": "code",
   "execution_count": 88,
   "id": "1d212f01-6913-461c-880a-68544f21998a",
   "metadata": {},
   "outputs": [
    {
     "name": "stdout",
     "output_type": "stream",
     "text": [
      "total_bill    0\n",
      "tip           0\n",
      "sex           0\n",
      "smoker        0\n",
      "day           0\n",
      "time          0\n",
      "size          0\n",
      "dtype: int64\n"
     ]
    }
   ],
   "source": [
    "brak = df.isnull().sum()\n",
    "print(brak)"
   ]
  },
  {
   "cell_type": "markdown",
   "id": "6f1dd98a-c29c-4522-9a3f-5ee5a72e6ca0",
   "metadata": {},
   "source": [
    "brak brakujacych wartosci"
   ]
  },
  {
   "cell_type": "markdown",
   "id": "aff298c1-f9f9-4eba-8f85-b84159f12acc",
   "metadata": {},
   "source": [
    "srednia wartosc rachunku + tips + podzial "
   ]
  },
  {
   "cell_type": "code",
   "execution_count": 89,
   "id": "7b95d54b-75f0-487e-9353-fbf35bc9870c",
   "metadata": {},
   "outputs": [
    {
     "name": "stdout",
     "output_type": "stream",
     "text": [
      "             total_bill       tip\n",
      "day  sex                         \n",
      "Thur Male     18.714667  2.980333\n",
      "     Female   16.715312  2.575625\n",
      "Fri  Male     19.857000  2.693000\n",
      "     Female   14.145556  2.781111\n",
      "Sat  Male     20.802542  3.083898\n",
      "     Female   19.680357  2.801786\n",
      "Sun  Male     21.887241  3.220345\n",
      "     Female   19.872222  3.367222\n"
     ]
    },
    {
     "name": "stderr",
     "output_type": "stream",
     "text": [
      "C:\\Users\\Kamil\\AppData\\Local\\Temp\\ipykernel_9480\\41598621.py:1: FutureWarning: The default of observed=False is deprecated and will be changed to True in a future version of pandas. Pass observed=False to retain current behavior or observed=True to adopt the future default and silence this warning.\n",
      "  srednia = df.groupby(['day', 'sex']).agg({'total_bill': 'mean', 'tip': 'mean'})\n"
     ]
    }
   ],
   "source": [
    "srednia = df.groupby(['day', 'sex']).agg({'total_bill': 'mean', 'tip': 'mean'})\n",
    "print(srednia)"
   ]
  },
  {
   "cell_type": "markdown",
   "id": "66c40081-5b5f-4208-b262-293807720469",
   "metadata": {},
   "source": [
    "srednia wartosc rachunku z podzialem groupby + agg"
   ]
  },
  {
   "cell_type": "code",
   "execution_count": 104,
   "id": "09765d3f-de12-4544-91aa-4de3d9d20097",
   "metadata": {},
   "outputs": [
    {
     "name": "stdout",
     "output_type": "stream",
     "text": [
      "0      0.059447\n",
      "1      0.160542\n",
      "2      0.166587\n",
      "3      0.139780\n",
      "4      0.146808\n",
      "         ...   \n",
      "239    0.203927\n",
      "240    0.073584\n",
      "241    0.088222\n",
      "242    0.098204\n",
      "243    0.159744\n",
      "Name: tip_rate, Length: 244, dtype: float64\n"
     ]
    }
   ],
   "source": [
    "df[\"tip_rate\"] = df[\"tip\"] / df[\"total_bill\"]\n",
    "print(df[\"tip_rate\"])"
   ]
  },
  {
   "cell_type": "markdown",
   "id": "e9ee4a9c-7db3-41c4-9ae2-50bb64e59a2f",
   "metadata": {},
   "source": [
    "srednia dla danego dnia"
   ]
  },
  {
   "cell_type": "code",
   "execution_count": 116,
   "id": "aca1ba67-ab95-45e6-ba8f-d539d432a1cf",
   "metadata": {},
   "outputs": [
    {
     "name": "stdout",
     "output_type": "stream",
     "text": [
      "day\n",
      "Thur    2.771452\n",
      "Fri     2.734737\n",
      "Sat     2.993103\n",
      "Sun     3.255132\n",
      "Name: tip, dtype: float64\n"
     ]
    },
    {
     "name": "stderr",
     "output_type": "stream",
     "text": [
      "C:\\Users\\Kamil\\AppData\\Local\\Temp\\ipykernel_9480\\22015977.py:1: FutureWarning: The default of observed=False is deprecated and will be changed to True in a future version of pandas. Pass observed=False to retain current behavior or observed=True to adopt the future default and silence this warning.\n",
      "  procent = df.groupby('day')['tip'].mean()\n"
     ]
    }
   ],
   "source": [
    "procent = df.groupby('day')['tip'].mean()\n",
    "print(procent)"
   ]
  },
  {
   "cell_type": "code",
   "execution_count": 113,
   "id": "d213099d-5bfe-4870-a426-cfc916c610bc",
   "metadata": {},
   "outputs": [
    {
     "data": {
      "text/plain": [
       "<Axes: xlabel='total_bill', ylabel='tip_rate'>"
      ]
     },
     "execution_count": 113,
     "metadata": {},
     "output_type": "execute_result"
    },
    {
     "data": {
      "image/png": "[encoded data removed]",
      "text/plain": [
       "<Figure size 640x480 with 1 Axes>"
      ]
     },
     "metadata": {},
     "output_type": "display_data"
    }
   ],
   "source": [
    "sns.scatterplot(data=df, x=df[\"total_bill\"], y=df[\"tip_rate\"], hue=df[\"sex\"])"
   ]
  },
  {
   "cell_type": "markdown",
   "id": "f49d7225-e216-4c68-9bb0-1b2535b33c0f",
   "metadata": {},
   "source": [
    "Poziom napiwkow jest troche wiekszy w weekendy.\n",
    "Wieksze napiwki zostawiaja kobiety"
   ]
  }
 ],
 "metadata": {
  "kernelspec": {
   "display_name": "Python [conda env:base] *",
   "language": "python",
   "name": "conda-base-py"
  },
  "language_info": {
   "codemirror_mode": {
    "name": "ipython",
    "version": 3
   },
   "file_extension": ".py",
   "mimetype": "text/x-python",
   "name": "python",
   "nbconvert_exporter": "python",
   "pygments_lexer": "ipython3",
   "version": "3.13.5"
  }
 },
 "nbformat": 4,
 "nbformat_minor": 5
}
