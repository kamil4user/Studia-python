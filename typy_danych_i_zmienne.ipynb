{
  "metadata": {
    "kernelspec": {
      "name": "xpython",
      "display_name": "Python 3.13 (XPython)",
      "language": "python"
    },
    "language_info": {
      "file_extension": ".py",
      "mimetype": "text/x-python",
      "name": "python",
      "version": "3.13.1"
    }
  },
  "nbformat_minor": 5,
  "nbformat": 4,
  "cells": [
    {
      "id": "b080a049-9109-4dc8-b0be-30dc85af8dfb",
      "cell_type": "code",
      "source": "a = 10\nb = 3.5\nc = \"Python\"\nd = True",
      "metadata": {
        "trusted": true
      },
      "outputs": [],
      "execution_count": 3
    },
    {
      "id": "efd01895-3a81-454f-968c-9075b3e8f2a7",
      "cell_type": "code",
      "source": "print(type(a))\nprint(type(b))\nprint(type(c))\nprint(type(d))",
      "metadata": {
        "trusted": true
      },
      "outputs": [
        {
          "name": "stdout",
          "output_type": "stream",
          "text": "<class 'int'>\n<class 'float'>\n<class 'str'>\n<class 'bool'>\n"
        }
      ],
      "execution_count": 5
    },
    {
      "id": "71e07928-405c-4324-bc58-310869fce5b1",
      "cell_type": "code",
      "source": "dodawanie = a+b\nodejmowanie = a-b\ndzielenie = a/b\npotegowanie = a**b\nprint(dodawanie)\nprint(odejmowanie)\nprint(dzielenie)\nprint(potegowanie)",
      "metadata": {
        "trusted": true
      },
      "outputs": [
        {
          "name": "stdout",
          "output_type": "stream",
          "text": "13.5\n6.5\n2.857142857142857\n3162.2776601683795\n"
        }
      ],
      "execution_count": 7
    },
    {
      "id": "66e5e451-aec5-4680-97e8-cb5af0194e5a",
      "cell_type": "code",
      "source": "print(f\"Wartosc a to {a}, a b to {b}\")",
      "metadata": {
        "trusted": true
      },
      "outputs": [
        {
          "name": "stdout",
          "output_type": "stream",
          "text": "Wartosc a to 10, a b to 3.5\n"
        }
      ],
      "execution_count": 8
    }
  ]
}